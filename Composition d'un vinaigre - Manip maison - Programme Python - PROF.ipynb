{
 "cells": [
  {
   "cell_type": "markdown",
   "metadata": {},
   "source": [
    "<div class=\"panel panel-primary\">\n",
    "    <div class=\"panel-heading\"><h2>Préambule :</h2></div>\n",
    "      <div class=\"panel-body\">\n",
    "Dans cette interface, vous allez découvrir des blocs de code qui composent un programme informatique complet.\n",
    "\n",
    "Afin de vous permettre de vous initier au codage et de vous faire participer à compléter ce programme informatique, le programme sera fragmenté par blocs. \n",
    "\n",
    "Ainsi, vous serez sollicité.e.s pour deux types d'action. <br>\n",
    "- un travail pour <i>exécuter</i> un bloc de programme informatique ;<br>\n",
    "- un travail pour <i>compléter</i> un bloc de programme informatique.<br>\n",
    "<br>\n",
    "Avant de commencer à découvrir le contenu du programme informatique proposé, je vous invite à prendre connaissance des différents types de consignes et des codes couleurs associés que vous allez rencontrer.\n",
    "      </div>\n",
    "</div>"
   ]
  },
  {
   "cell_type": "markdown",
   "metadata": {},
   "source": [
    "<div class=\"alert alert-info\" role=\"alert\">\n",
    "<b>Informations pour exécuter un bloc de programme informatique : </b> <br>\n",
    "<br><i>Avant</i> les blocs de programme qu'il faut simplément \"exécuter\", vous trouverez :<br>\n",
    "la consigne de travail sur un fond bleu avec une écriture en bleu foncé comme pour cette consigne.<br>\n",
    "\n",
    "Pour Exécuter le code dans un bloc de programme, il faut le sélectionner en cliquant sur la cellule du bloc, puis cliquer sur le bouton Run (ou Exécuter) <b>en haut de la page</b> ou bien en cliquant sur la flèche à côté de In (ou Entrée) si vous êtes sur tablettes ou smartphones.\n",
    "</div>"
   ]
  },
  {
   "cell_type": "markdown",
   "metadata": {},
   "source": [
    "<div class=\"alert alert-warning\">\n",
    "<b>Informations pour compléter un bloc de programme informatique: </b> <br>\n",
    "Certains blocs de codes doivent être complétés <span style='border:1px outset black'>avant</span> d'être exécutés afin de fonctionner convenablement.<br>\n",
    "<br><i>Avant</i> les blocs de programme qu'il faut \"compléter\", vous trouverez :<br>\n",
    "- la consigne de travail sur un fond jaune avec une écriture en brun - comme pour cette consigne.<br>\n",
    "\n",
    "Dans le bloc de programme à compléter vous remplacerez la mention \"-----A COMPLETER-----\" par le code adapté.<br>\n",
    "Dans certains cas, il est possible d'avoir des aides et/ou la solution.\n",
    "<br><b>ATTENTION : Une fois le programme complété, il faut alors exécuter le bloc de code correspondant.</b>\n",
    "</div>"
   ]
  },
  {
   "cell_type": "markdown",
   "metadata": {},
   "source": [
    "<h1> INTERFACE - Composition d'un vinaigre - Term</h1>"
   ]
  },
  {
   "cell_type": "markdown",
   "metadata": {},
   "source": [
    "<div class=\"panel panel-default\">\n",
    "      <div class=\"panel-heading\"><h2>Composition d'un vinaigre - Term</h2></div>\n",
    "<div class=\"panel-body\"> \n",
    "Pour aborder ce programme, vous aurez besoin d'avoir traité les premières questions (1 et 2) de l'activité. </div>       \n",
    "<div class=\"panel-body\">           \n",
    "Dans cette interface, vous allez découvrir des blocs de code qui composent un programme informatique complet qui permet d'exploiter des valeurs de concentration de l'acide éthanoïque et de la constante d'acidité associée à la réaction de l'acide éthanoïque et de l'eau. Ce programme a pour but :</div>\n",
    "<div class=\"panel-body\">     \n",
    "1] de demander à l'opératrice ou à l'opérateur de saisir les valeurs de la concentration c de l'acide éthanoïque et la constante d'acidité KA associé ;\n",
    "    </div>\n",
    "<div class=\"panel-body\">     \n",
    "2] de compléter le programme pour déterminer le taux d'avancement (noté \"to\") de la transformation.\n",
    "    </div>\n",
    "<div class=\"panel-body\"> \n",
    "L'intégralité du programme (à compléter) est disponible dans l'énoncé du TP.          \n",
    "Afin de vous permettre de vous initier au codage et de vous faire participer pour compléter ce programme informatique, le programme sera fragmenté par bloc selon les modalités et consignes d'usages rappelées au début de cette page. </div>"
   ]
  },
  {
   "cell_type": "markdown",
   "metadata": {},
   "source": [
    "<div class=\"alert alert-info\" role=\"alert\">\n",
    "<b>Travail à faire pour exécuter le bloc de programme suivant : </b> <br>\n",
    "    Le bloc suivant permet de demander à l'opératrice ou à l'opérateur de saisir les valeurs de la concentration c de l'acide éthanoïque et la constante d'acidité KA associé <br>\n",
    "\n",
    "Exécuter le code suivant.<br>\n",
    "Pour Exécuter le code dans la cellule ci-dessus, le sélectionner-le en cliquant sur la cellule, puis cliquer sur le bouton Run (ou Exécuter) en haut de la page ou bien en cliquant sur la flèche à côté de In (ou Entrée) si vous êtes sur tablettes ou smartphones.\n",
    "<br><b>Si vous avez réussi, vous verrez graphique apparaitre :) Assurez vous que l'évolution de la concentration est cohérente avec l'expérience réalisée</b>\n",
    "</div>"
   ]
  },
  {
   "cell_type": "code",
   "execution_count": null,
   "metadata": {},
   "outputs": [],
   "source": [
    "import math # On importe la librairie math qui permet de réaliser des calculs\n",
    "print (\"Donner la valeur de c (attention : si la valeur est décimale, utiliser un 'point' et non une 'virgule')\")\n",
    "c = float(input(\"c = \"))    # On demande la valeur de la concentration c en acide apporté.\n",
    "while c <= 0: # On vérifie que c est strictement positif\n",
    "    print (\"c doit être strictement positif\")\n",
    "    c = float(input(\"c = \"))    # On demande alors à nouveau la valeur de c.\n",
    "print(\"Donner la valeur de KA en utilisant la lettre E pour la puissance de 10 :\")\n",
    "KA = float(input(\"KA = \"))  # On demande la valeur de la constante d’acidité KA du couple acide-base.\n",
    "while KA <= 0: # On vérifie que KA est strictement positif\n",
    "    print (\"KA doit être strictement positif\")\n",
    "    KA = float(input(\"KA = \"))    # On demande à nouveau la valeur de KA."
   ]
  },
  {
   "cell_type": "markdown",
   "metadata": {},
   "source": [
    "<div class=\"alert alert-warning\">\n",
    "<b>TRAVAIL À FAIRE POUR COMPLÉTER LE BLOC SUIVANT </b> <br>\n",
    "<br>\n",
    "Le bloc de programme suivant permet de calculer le discrimant de l'équation du second degré de la forme c.τ<sup>2</sup>+K<sub>A</sub>.τ+K<sub>A</sub>=O puis de calculer et d'afficher la valeur du taux d'avancement.\n",
    "\n",
    "<br>\n",
    "Information : le \"carré\" se saisit **2. Ainsi, taux au carré s'écrit to**2.\n",
    "<br><br><br>\n",
    "Remplacez alors la mention \"-----A COMPLETER-----\" par une expression adaptée.\n",
    "\n",
    "<br>\n",
    "<br>\n",
    "\n",
    "<br>\n",
    "<b>ATTENTION : Une fois le programme complété, il faut alors exécuter le bloc de code correspondant.</b>\n",
    "</div>"
   ]
  },
  {
   "cell_type": "markdown",
   "metadata": {},
   "source": [
    "<details>\n",
    "<summary>Aide</summary>\n",
    "<p>Vous devez compléter la ligne n°1 en remplaçant la mention \"---A COMPLETER----\" par l'expression du discriminant en tenant compte des notations des grandeurs de la concentration de l'acide éthanoïque, du taux d'avancement et de la constante d'acidité dans ce programme.</p>\n",
    "\n",
    "</details>\n",
    "\n",
    "<details>\n",
    "<summary>Solution</summary>\n",
    "<p>Vous devez compléter la ligne n°1 en remplaçant la mention \"---A COMPLETER----\" par KA**2 + 4*c*KA.</p>\n",
    "</details>"
   ]
  },
  {
   "cell_type": "code",
   "execution_count": null,
   "metadata": {},
   "outputs": [],
   "source": [
    "delta = KA**2 + 4*c*KA    # On calcule le discriminant delta, forcément positif car c et KA positifs. L'équation a donc deux solutions dont une seule positive que l'on retient.\n",
    "print(\"Le discriminant vaut delta = \",\"%.2e\"%delta, )\n",
    "to = (-KA + math.sqrt(delta)) /(2*c)\n",
    "print (\"Le taux d'avancement est to = \", to, )\n"
   ]
  }
 ],
 "metadata": {
  "kernelspec": {
   "display_name": "Python 3",
   "language": "python",
   "name": "python3"
  },
  "language_info": {
   "codemirror_mode": {
    "name": "ipython",
    "version": 3
   },
   "file_extension": ".py",
   "mimetype": "text/x-python",
   "name": "python",
   "nbconvert_exporter": "python",
   "pygments_lexer": "ipython3",
   "version": "3.7.4"
  }
 },
 "nbformat": 4,
 "nbformat_minor": 2
}
